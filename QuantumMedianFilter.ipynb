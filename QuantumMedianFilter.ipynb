{
  "nbformat": 4,
  "nbformat_minor": 0,
  "metadata": {
    "colab": {
      "name": "QuantumMedianFilter.ipynb",
      "provenance": [],
      "collapsed_sections": [],
      "authorship_tag": "ABX9TyMMD8doY41F3bDrmydOaFLo",
      "include_colab_link": true
    },
    "kernelspec": {
      "name": "python3",
      "display_name": "Python 3"
    },
    "language_info": {
      "name": "python"
    }
  },
  "cells": [
    {
      "cell_type": "markdown",
      "metadata": {
        "id": "view-in-github",
        "colab_type": "text"
      },
      "source": [
        "<a href=\"https://colab.research.google.com/github/TheClintest/QuantumMedianFilter/blob/master/QuantumMedianFilter.ipynb\" target=\"_parent\"><img src=\"https://colab.research.google.com/assets/colab-badge.svg\" alt=\"Open In Colab\"/></a>"
      ]
    },
    {
      "cell_type": "markdown",
      "source": [
        "# Introduzione\n",
        "\n",
        "Il file QMF.py contiene tutte le classi e i metodi necessari per applicare il Quantum Median Filter. Sfrutta la libreria Qiskit per la simulazione quantistica, oltre ad altre necessarie librerie minori."
      ],
      "metadata": {
        "id": "ibNo8mueHJAD"
      }
    },
    {
      "cell_type": "code",
      "execution_count": null,
      "metadata": {
        "id": "RQNRfPPxG1ZJ"
      },
      "outputs": [],
      "source": [
        "from QMF import *"
      ]
    },
    {
      "cell_type": "markdown",
      "source": [
        "# Conversione di immagini\n",
        "\n",
        "La libreria contiene una classe di utility, *Converter*, che consente la trasformazione di un'immagine in array NumPy e viceversa. In seguito si potrà utilizzare per ricavare l'immagine dal risultato della misurazione quantistica.\n",
        "\n",
        "Ad esempio, possiamo considerare di inserire un'immagine come la seguente **lena.png**:\n",
        "\n",
        "![lena_sp5.png](data:image/png;base64,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)\n",
        "\n",
        "Per convertirla in dato da utilizzare useremo la classe Converter e lo stesso faremo per ri-convertire il prodotto del Smulatore in immagine *pulita*:\n",
        "\n",
        "![lena_sp10_221.0.png](data:image/png;base64,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)"
      ],
      "metadata": {
        "id": "w-9bOB0ZIcC-"
      }
    },
    {
      "cell_type": "code",
      "source": [
        "filename = \"lena.png\"\n",
        "\n",
        "#Trasformazione in array\n",
        "img_array = Converter.to_array(filename)\n",
        "\n",
        "#Processo...\n",
        "\n",
        "#Trasformazione in immagine\n",
        "Converter.to_image(img_array, \"nuova_immagine.png\")"
      ],
      "metadata": {
        "id": "_IXdGVgrI1lc"
      },
      "execution_count": null,
      "outputs": []
    },
    {
      "cell_type": "markdown",
      "source": [
        "# Patching\n",
        "\n",
        "Per ovviare alle limitazioni computazionali, è necessario suddividere l'immagine in *patch*, in modo da eseguire la simulazione su ogni patch anzichè sull'immagine intera.\n",
        "Al termine della simulazione, sarà necessario ricostruire l'immagine ricomponendo i risultati dei singoli patch.\n",
        "Per fare questo, usiamo la classe *ImagePatcher*, che processa un'immagine in ingresso, effettuando il dovuto padding, e fornisce le patch da processare. In ultimo, può effettuare l'operazione inversa e ricostruire l'immagine originale dalle patch."
      ],
      "metadata": {
        "id": "ypkljczhKI5h"
      }
    },
    {
      "cell_type": "code",
      "source": [
        "patcher = ImagePatcher()\n",
        "patcher.load_image(img_array) # Caricamento/Processing\n",
        "patches = patcher.get_patches() # Suddivisione\n",
        "\n",
        "result_patches = patches.copy() # Dizionario per i risultati\n",
        "for pos, patch in patches.items():\n",
        "\n",
        "  # Simulazione...\n",
        "\n",
        "  result_patches[pos] = Converter.decode_image(answer, patch.copy(), color_size=8)\n",
        "\n",
        "# Risultati\n",
        "img_result = patcher.convert_patches(result_patches)\n",
        "Converter.to_image(img_result, \"result.png\")\n"
      ],
      "metadata": {
        "id": "xGml-agPKDZ_"
      },
      "execution_count": null,
      "outputs": []
    },
    {
      "cell_type": "markdown",
      "source": [
        "# Simulazione\n",
        "\n",
        "Per simulare il circuito applicato all'immagine è necessario preparare l'istanza di un simulatore, usando la classe *Simulator* che genera un simulatore Qiskit impostato con il metodo MPS."
      ],
      "metadata": {
        "id": "uQ3454A2M5yC"
      }
    },
    {
      "cell_type": "code",
      "source": [
        "max_bond_dimension = 32\n",
        "simulator = Simulator(max_bond_dimension)"
      ],
      "metadata": {
        "id": "5gNoWPCVM5al"
      },
      "execution_count": null,
      "outputs": []
    },
    {
      "cell_type": "markdown",
      "source": [
        "# Circuito\n",
        "\n",
        "Adesso abbiamo tutti gli elementi per la simulazione, meno che uno: il circuito!\n",
        "Il Quantum Median Filter per essere eseguito necessita in input una rappresentazione quantistica dell'immagine in formato NEQR. Pertanto è necessario preparare questo sotto-circuito prima del resto. Dopodichè è sufficiente avviare la simulazione."
      ],
      "metadata": {
        "id": "HcoOc0evN_Mf"
      }
    },
    {
      "cell_type": "code",
      "source": [
        "qmf = QuantumMedianFilter()\n",
        "lambda_parameter = 100 # Parametro di esecuzione\n",
        "\n",
        "# Generazione dei circuiti\n",
        "qmf.generate(simulator, color_size=8, coordinate_size=2, optimization=3)\n",
        "\n",
        "for pos, patch in patches.items():\n",
        "\n",
        "  #Generazione NEQR\n",
        "  neqr = Circuit.neqr(patch, color_num=color_size, verbose=False)\n",
        "  neqr_transpiled = sim.transpile(neqr, optimization=0, verbose=False)\n",
        "\n",
        "  #Generazione QMF\n",
        "  qmf.prepare_old(np.array(patch), lambda_parameter, color_size, neqr_transpiled)\n",
        "  circuit = qmf.get()\n",
        "\n",
        "  #Simulazione\n",
        "  answer = sim.simulate_old(circuit, shots=128, verbose=False)\n",
        "\n",
        "  #Recupero dei risultati\n",
        "  result_patches[pos] = Converter.decode_image(answer, patch.copy(), color_size=8)"
      ],
      "metadata": {
        "id": "vPCTwe1QOrGS"
      },
      "execution_count": null,
      "outputs": []
    },
    {
      "cell_type": "markdown",
      "source": [
        "# Un main per domarli tutti\n",
        "\n",
        "Tutti gli elementi che compongono il denoiser sono stati introdotti, tuttavia non è necessario scrivere un programma che effettui il denoise, in quanto è già presente!\n",
        "\n",
        "È sufficiente infatti eseguire il file **main.py** presente nel repository, avendo l'accortezza di inserire le immagini in input nella cartella */images*.\n",
        "\n",
        "A quel punto è sufficiente eseguire il seguente comando:\n",
        "\n",
        "    ./main.py [-g -mps] FILENAME LAMBDA EPSILON\n",
        "\n",
        "dove:\n",
        "\n",
        "\n",
        "*   **-g**: Va usato almeno per la prima simulazione, in quanto *genera* i QASM file dei circuiti da utilizzare.\n",
        "*   **-mps**: Raccomandato. Dichiara l'utilizzo di un simulatore *matrix product state*\n",
        "\n",
        "\n",
        "*   **FILENAME**: È il nome del file in input nella cartella *images*\n",
        "*   **LAMBDA**: Definisce lo scostamento dall'immagine originale. Più è alto il valore, maggiore sarà la differenza dall'input. Valori suggeriti in un range tra 2 e 128.\n",
        "*   **EPSILON**: Definisce la tolleranza nella valutazione di scostamente tra le immagini ottenute. Un valore alto porta a poche iterazioni, ma a risultati scarsi; al contrario un valore basso richiede maggiori iterazioni per un risultato più corretto. Valori suggeriti in un range tra 0.1 e 0.0001\n",
        "\n",
        "Ad esempio, se volessi effettuare il denoise dell'immagine *lena.png*, dovrei eseguire il comando:\n",
        "\n",
        "    ./main.py -g -mps lena 32 0.001\n",
        "\n",
        "Al termine del processo, otterrei il file risultato in */images/output/lena_32.png*\n",
        "\n",
        "\n",
        "\n",
        "\n",
        "\n"
      ],
      "metadata": {
        "id": "2_haqVhy3B0s"
      }
    }
  ]
}